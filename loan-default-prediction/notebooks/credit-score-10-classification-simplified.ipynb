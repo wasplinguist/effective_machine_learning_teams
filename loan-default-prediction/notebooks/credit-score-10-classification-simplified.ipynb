{
 "cells": [
  {
   "cell_type": "code",
   "execution_count": 1,
   "id": "6e3f7ec5",
   "metadata": {
    "execution": {
     "iopub.execute_input": "2022-09-12T00:58:49.907866Z",
     "iopub.status.busy": "2022-09-12T00:58:49.907064Z",
     "iopub.status.idle": "2022-09-12T00:58:52.715764Z",
     "shell.execute_reply": "2022-09-12T00:58:52.714703Z"
    },
    "papermill": {
     "duration": 2.84866,
     "end_time": "2022-09-12T00:58:52.718701",
     "exception": false,
     "start_time": "2022-09-12T00:58:49.870041",
     "status": "completed"
    },
    "tags": []
   },
   "outputs": [
    {
     "name": "stderr",
     "output_type": "stream",
     "text": [
      "OpenBLAS WARNING - could not determine the L2 cache size on this system, assuming 256k\n",
      "OpenBLAS WARNING - could not determine the L2 cache size on this system, assuming 256k\n"
     ]
    }
   ],
   "source": [
    "# Basic & visualization modules\n",
    "import numpy as np\n",
    "import pandas as pd\n",
    "\n",
    "# sklearn modules\n",
    "from sklearn import tree\n",
    "from sklearn.preprocessing import LabelEncoder as le                    # label encoder\n",
    "from sklearn.model_selection import train_test_split                    # train & test split \n",
    "from sklearn.preprocessing import RobustScaler as rbScaler              # robust scaler\n",
    "from sklearn.ensemble import VotingClassifier as voClassifier           # voting\n",
    "from sklearn.tree  import DecisionTreeClassifier as dtClassifier        # decision tree\n",
    "from sklearn.ensemble import AdaBoostClassifier as adabClassifier       # adaboosting\n",
    "from sklearn.neighbors import KNeighborsClassifier as knnClassifier     # knn\n",
    "from sklearn.ensemble import RandomForestClassifier as rfClassifier     # random forest\n",
    "from sklearn.linear_model import LogisticRegression as lgrClassifier    # logistic regression\n",
    "from sklearn.ensemble import GradientBoostingClassifier as gbClassifier # gbm"
   ]
  },
  {
   "cell_type": "markdown",
   "id": "aff87acf",
   "metadata": {
    "papermill": {
     "duration": 0.034593,
     "end_time": "2022-09-12T00:58:52.788699",
     "exception": false,
     "start_time": "2022-09-12T00:58:52.754106",
     "status": "completed"
    },
    "tags": []
   },
   "source": [
    "# Reading the CSV file"
   ]
  },
  {
   "cell_type": "code",
   "execution_count": 2,
   "id": "9ffda714",
   "metadata": {
    "execution": {
     "iopub.execute_input": "2022-09-12T00:58:52.862009Z",
     "iopub.status.busy": "2022-09-12T00:58:52.861285Z",
     "iopub.status.idle": "2022-09-12T00:58:54.030467Z",
     "shell.execute_reply": "2022-09-12T00:58:54.029225Z"
    },
    "papermill": {
     "duration": 1.209659,
     "end_time": "2022-09-12T00:58:54.033503",
     "exception": false,
     "start_time": "2022-09-12T00:58:52.823844",
     "status": "completed"
    },
    "tags": []
   },
   "outputs": [],
   "source": [
    "data = pd.read_csv(\"../data/train.csv\", encoding = \"utf-8\" , sep = \",\", low_memory=False)"
   ]
  },
  {
   "cell_type": "code",
   "execution_count": 3,
   "id": "8db60581",
   "metadata": {
    "execution": {
     "iopub.execute_input": "2022-09-12T00:59:06.671556Z",
     "iopub.status.busy": "2022-09-12T00:59:06.670851Z",
     "iopub.status.idle": "2022-09-12T00:59:07.336115Z",
     "shell.execute_reply": "2022-09-12T00:59:07.334964Z"
    },
    "papermill": {
     "duration": 0.710581,
     "end_time": "2022-09-12T00:59:07.338888",
     "exception": false,
     "start_time": "2022-09-12T00:59:06.628307",
     "status": "completed"
    },
    "tags": []
   },
   "outputs": [],
   "source": [
    "rows = ['Age', 'Annual_Income', 'Num_of_Loan', 'Num_of_Delayed_Payment', 'Changed_Credit_Limit', 'Outstanding_Debt', 'Amount_invested_monthly', 'Monthly_Balance']\n",
    "for row in rows:\n",
    "    data[row] = data[row].str.replace(r'_+', '')"
   ]
  },
  {
   "cell_type": "code",
   "execution_count": 4,
   "id": "65d24742",
   "metadata": {
    "execution": {
     "iopub.execute_input": "2022-09-12T00:59:07.423928Z",
     "iopub.status.busy": "2022-09-12T00:59:07.423109Z",
     "iopub.status.idle": "2022-09-12T00:59:07.873227Z",
     "shell.execute_reply": "2022-09-12T00:59:07.871878Z"
    },
    "papermill": {
     "duration": 0.495704,
     "end_time": "2022-09-12T00:59:07.875979",
     "exception": false,
     "start_time": "2022-09-12T00:59:07.380275",
     "status": "completed"
    },
    "tags": []
   },
   "outputs": [],
   "source": [
    "for row in rows:\n",
    "    data[row] = pd.to_numeric(data[row], errors='coerce')"
   ]
  },
  {
   "cell_type": "markdown",
   "id": "0062ef8a",
   "metadata": {
    "papermill": {
     "duration": 0.041221,
     "end_time": "2022-09-12T00:59:08.120076",
     "exception": false,
     "start_time": "2022-09-12T00:59:08.078855",
     "status": "completed"
    },
    "tags": []
   },
   "source": [
    "# Handle missing values"
   ]
  },
  {
   "cell_type": "code",
   "execution_count": 17,
   "id": "816eedec",
   "metadata": {
    "execution": {
     "iopub.execute_input": "2022-09-12T00:59:08.204523Z",
     "iopub.status.busy": "2022-09-12T00:59:08.204117Z",
     "iopub.status.idle": "2022-09-12T00:59:08.298562Z",
     "shell.execute_reply": "2022-09-12T00:59:08.297665Z"
    },
    "papermill": {
     "duration": 0.139886,
     "end_time": "2022-09-12T00:59:08.301300",
     "exception": false,
     "start_time": "2022-09-12T00:59:08.161414",
     "status": "completed"
    },
    "tags": []
   },
   "outputs": [],
   "source": [
    "data.dropna(thresh=26, inplace=True)"
   ]
  },
  {
   "cell_type": "markdown",
   "id": "cea586a9",
   "metadata": {
    "papermill": {
     "duration": 0.040785,
     "end_time": "2022-09-12T00:59:08.531604",
     "exception": false,
     "start_time": "2022-09-12T00:59:08.490819",
     "status": "completed"
    },
    "tags": []
   },
   "source": [
    "## 1,744 missing Rows were removed to handle some missing values 1.7%"
   ]
  },
  {
   "cell_type": "code",
   "execution_count": 6,
   "id": "5ba61c4f",
   "metadata": {
    "execution": {
     "iopub.execute_input": "2022-09-12T00:59:08.616365Z",
     "iopub.status.busy": "2022-09-12T00:59:08.615564Z",
     "iopub.status.idle": "2022-09-12T00:59:08.632192Z",
     "shell.execute_reply": "2022-09-12T00:59:08.631220Z"
    },
    "papermill": {
     "duration": 0.062142,
     "end_time": "2022-09-12T00:59:08.634882",
     "exception": false,
     "start_time": "2022-09-12T00:59:08.572740",
     "status": "completed"
    },
    "tags": []
   },
   "outputs": [],
   "source": [
    "data = data[['Month', 'Age', 'Occupation','Annual_Income', 'Monthly_Inhand_Salary', 'Num_Bank_Accounts',\n",
    "       'Num_Credit_Card', 'Interest_Rate', 'Num_of_Loan', 'Type_of_Loan',\n",
    "       'Delay_from_due_date', 'Num_of_Delayed_Payment', 'Changed_Credit_Limit',\n",
    "       'Num_Credit_Inquiries', 'Credit_Mix', 'Outstanding_Debt',\n",
    "       'Credit_Utilization_Ratio', 'Credit_History_Age',\n",
    "       'Payment_of_Min_Amount', 'Total_EMI_per_month',\n",
    "       'Amount_invested_monthly', 'Payment_Behaviour', 'Monthly_Balance',\n",
    "       'Credit_Score']]"
   ]
  },
  {
   "cell_type": "markdown",
   "id": "9d0ba49d",
   "metadata": {
    "papermill": {
     "duration": 0.042601,
     "end_time": "2022-09-12T00:59:12.977961",
     "exception": false,
     "start_time": "2022-09-12T00:59:12.935360",
     "status": "completed"
    },
    "tags": []
   },
   "source": [
    "## Handle Monthly_Inhand_Salary missing values"
   ]
  },
  {
   "cell_type": "code",
   "execution_count": 22,
   "id": "884b7d84",
   "metadata": {
    "execution": {
     "iopub.execute_input": "2022-09-12T00:59:13.977880Z",
     "iopub.status.busy": "2022-09-12T00:59:13.977384Z",
     "iopub.status.idle": "2022-09-12T00:59:14.001333Z",
     "shell.execute_reply": "2022-09-12T00:59:14.000380Z"
    },
    "papermill": {
     "duration": 0.071452,
     "end_time": "2022-09-12T00:59:14.004045",
     "exception": false,
     "start_time": "2022-09-12T00:59:13.932593",
     "status": "completed"
    },
    "tags": []
   },
   "outputs": [],
   "source": [
    "fill_list = data['Monthly_Inhand_Salary'].dropna().tolist()\n",
    "data['Monthly_Inhand_Salary'] = data['Monthly_Inhand_Salary'].fillna(pd.Series(np.random.choice(fill_list , size = len(data.index))))"
   ]
  },
  {
   "cell_type": "code",
   "execution_count": 23,
   "id": "34b6d322",
   "metadata": {
    "execution": {
     "iopub.execute_input": "2022-09-12T00:59:14.092571Z",
     "iopub.status.busy": "2022-09-12T00:59:14.091761Z",
     "iopub.status.idle": "2022-09-12T00:59:14.995267Z",
     "shell.execute_reply": "2022-09-12T00:59:14.993867Z"
    },
    "papermill": {
     "duration": 0.95079,
     "end_time": "2022-09-12T00:59:14.997919",
     "exception": false,
     "start_time": "2022-09-12T00:59:14.047129",
     "status": "completed"
    },
    "tags": []
   },
   "outputs": [
    {
     "data": {
      "text/plain": [
       "<seaborn.axisgrid.FacetGrid at 0x7f4d03d36290>"
      ]
     },
     "execution_count": 23,
     "metadata": {},
     "output_type": "execute_result"
    },
    {
     "data": {
      "text/plain": [
       "<Figure size 864x576 with 0 Axes>"
      ]
     },
     "metadata": {},
     "output_type": "display_data"
    },
    {
     "data": {
      "image/png": "[encoded data removed]",
      "text/plain": [
       "<Figure size 360x360 with 1 Axes>"
      ]
     },
     "metadata": {
      "needs_background": "light"
     },
     "output_type": "display_data"
    }
   ],
   "source": [
    "plt.figure(figsize=(12,8))\n",
    "sns.displot(data=data, x=\"Monthly_Inhand_Salary\", kde=True, color=\"#1a659e\")"
   ]
  },
  {
   "cell_type": "markdown",
   "id": "54cec790",
   "metadata": {
    "papermill": {
     "duration": 0.043237,
     "end_time": "2022-09-12T00:59:15.085138",
     "exception": false,
     "start_time": "2022-09-12T00:59:15.041901",
     "status": "completed"
    },
    "tags": []
   },
   "source": [
    "## Handle Type_of_Loan missing values"
   ]
  },
  {
   "cell_type": "code",
   "execution_count": 24,
   "id": "522c5bd4",
   "metadata": {
    "execution": {
     "iopub.execute_input": "2022-09-12T00:59:15.175830Z",
     "iopub.status.busy": "2022-09-12T00:59:15.175068Z",
     "iopub.status.idle": "2022-09-12T00:59:15.367144Z",
     "shell.execute_reply": "2022-09-12T00:59:15.366040Z"
    },
    "papermill": {
     "duration": 0.240734,
     "end_time": "2022-09-12T00:59:15.370233",
     "exception": false,
     "start_time": "2022-09-12T00:59:15.129499",
     "status": "completed"
    },
    "tags": []
   },
   "outputs": [],
   "source": [
    "fill_list = data['Type_of_Loan'].dropna().tolist()\n",
    "data['Type_of_Loan'] = data['Type_of_Loan'].fillna(pd.Series(np.random.choice(fill_list , size = len(data.index))))"
   ]
  },
  {
   "cell_type": "markdown",
   "id": "d8ec7b9d",
   "metadata": {
    "papermill": {
     "duration": 0.043204,
     "end_time": "2022-09-12T00:59:15.457737",
     "exception": false,
     "start_time": "2022-09-12T00:59:15.414533",
     "status": "completed"
    },
    "tags": []
   },
   "source": [
    "## Handle Num_of_Delayed_Payment missing values"
   ]
  },
  {
   "cell_type": "code",
   "execution_count": 25,
   "id": "2fa42b61",
   "metadata": {
    "execution": {
     "iopub.execute_input": "2022-09-12T00:59:15.546130Z",
     "iopub.status.busy": "2022-09-12T00:59:15.545705Z",
     "iopub.status.idle": "2022-09-12T00:59:15.568527Z",
     "shell.execute_reply": "2022-09-12T00:59:15.567390Z"
    },
    "papermill": {
     "duration": 0.070062,
     "end_time": "2022-09-12T00:59:15.571213",
     "exception": false,
     "start_time": "2022-09-12T00:59:15.501151",
     "status": "completed"
    },
    "tags": []
   },
   "outputs": [],
   "source": [
    "fill_list = data['Num_of_Delayed_Payment'].dropna().tolist()\n",
    "data['Num_of_Delayed_Payment'] = data['Num_of_Delayed_Payment'].fillna(pd.Series(np.random.choice(fill_list , size = len(data.index))))"
   ]
  },
  {
   "cell_type": "markdown",
   "id": "0b0796c3",
   "metadata": {
    "papermill": {
     "duration": 0.042973,
     "end_time": "2022-09-12T00:59:15.657609",
     "exception": false,
     "start_time": "2022-09-12T00:59:15.614636",
     "status": "completed"
    },
    "tags": []
   },
   "source": [
    "## Handle Changed_Credit_Limit missing values"
   ]
  },
  {
   "cell_type": "code",
   "execution_count": 26,
   "id": "4d427d57",
   "metadata": {
    "execution": {
     "iopub.execute_input": "2022-09-12T00:59:15.745838Z",
     "iopub.status.busy": "2022-09-12T00:59:15.745424Z",
     "iopub.status.idle": "2022-09-12T00:59:15.770725Z",
     "shell.execute_reply": "2022-09-12T00:59:15.769473Z"
    },
    "papermill": {
     "duration": 0.072597,
     "end_time": "2022-09-12T00:59:15.773471",
     "exception": false,
     "start_time": "2022-09-12T00:59:15.700874",
     "status": "completed"
    },
    "tags": []
   },
   "outputs": [],
   "source": [
    "fill_list = data['Changed_Credit_Limit'].dropna().tolist()\n",
    "data['Changed_Credit_Limit'] = data['Changed_Credit_Limit'].fillna(pd.Series(np.random.choice(fill_list , size = len(data.index))))"
   ]
  },
  {
   "cell_type": "markdown",
   "id": "b923599d",
   "metadata": {
    "papermill": {
     "duration": 0.042961,
     "end_time": "2022-09-12T00:59:15.859784",
     "exception": false,
     "start_time": "2022-09-12T00:59:15.816823",
     "status": "completed"
    },
    "tags": []
   },
   "source": [
    "## Handle Num_Credit_Inquiries missing values"
   ]
  },
  {
   "cell_type": "code",
   "execution_count": 27,
   "id": "623f6352",
   "metadata": {
    "execution": {
     "iopub.execute_input": "2022-09-12T00:59:15.948795Z",
     "iopub.status.busy": "2022-09-12T00:59:15.948365Z",
     "iopub.status.idle": "2022-09-12T00:59:15.972517Z",
     "shell.execute_reply": "2022-09-12T00:59:15.970948Z"
    },
    "papermill": {
     "duration": 0.072382,
     "end_time": "2022-09-12T00:59:15.975438",
     "exception": false,
     "start_time": "2022-09-12T00:59:15.903056",
     "status": "completed"
    },
    "tags": []
   },
   "outputs": [],
   "source": [
    "fill_list = data['Num_Credit_Inquiries'].dropna().tolist()\n",
    "data['Num_Credit_Inquiries'] = data['Num_Credit_Inquiries'].fillna(pd.Series(np.random.choice(fill_list , size = len(data.index))))"
   ]
  },
  {
   "cell_type": "markdown",
   "id": "7eec8889",
   "metadata": {
    "papermill": {
     "duration": 0.043358,
     "end_time": "2022-09-12T00:59:16.063990",
     "exception": false,
     "start_time": "2022-09-12T00:59:16.020632",
     "status": "completed"
    },
    "tags": []
   },
   "source": [
    "## Handle Credit_History_Age missing values"
   ]
  },
  {
   "cell_type": "code",
   "execution_count": 28,
   "id": "c74586f1",
   "metadata": {
    "execution": {
     "iopub.execute_input": "2022-09-12T00:59:16.156959Z",
     "iopub.status.busy": "2022-09-12T00:59:16.156249Z",
     "iopub.status.idle": "2022-09-12T00:59:16.215129Z",
     "shell.execute_reply": "2022-09-12T00:59:16.214000Z"
    },
    "papermill": {
     "duration": 0.108443,
     "end_time": "2022-09-12T00:59:16.218268",
     "exception": false,
     "start_time": "2022-09-12T00:59:16.109825",
     "status": "completed"
    },
    "tags": []
   },
   "outputs": [],
   "source": [
    "fill_list = data['Credit_History_Age'].dropna().tolist()\n",
    "data['Credit_History_Age'] = data['Credit_History_Age'].fillna(pd.Series(np.random.choice(fill_list , size = len(data.index))))"
   ]
  },
  {
   "cell_type": "markdown",
   "id": "5c323e6b",
   "metadata": {
    "papermill": {
     "duration": 0.0432,
     "end_time": "2022-09-12T00:59:16.306449",
     "exception": false,
     "start_time": "2022-09-12T00:59:16.263249",
     "status": "completed"
    },
    "tags": []
   },
   "source": [
    "## Handle Amount_invested_monthly missing values"
   ]
  },
  {
   "cell_type": "code",
   "execution_count": 29,
   "id": "26ab4450",
   "metadata": {
    "execution": {
     "iopub.execute_input": "2022-09-12T00:59:16.395528Z",
     "iopub.status.busy": "2022-09-12T00:59:16.395102Z",
     "iopub.status.idle": "2022-09-12T00:59:16.418375Z",
     "shell.execute_reply": "2022-09-12T00:59:16.417135Z"
    },
    "papermill": {
     "duration": 0.070628,
     "end_time": "2022-09-12T00:59:16.421034",
     "exception": false,
     "start_time": "2022-09-12T00:59:16.350406",
     "status": "completed"
    },
    "tags": []
   },
   "outputs": [],
   "source": [
    "fill_list = data['Amount_invested_monthly'].dropna().tolist()\n",
    "data['Amount_invested_monthly'] = data['Amount_invested_monthly'].fillna(pd.Series(np.random.choice(fill_list , size = len(data.index))))"
   ]
  },
  {
   "cell_type": "markdown",
   "id": "28ae26b7",
   "metadata": {
    "papermill": {
     "duration": 0.044681,
     "end_time": "2022-09-12T00:59:16.509285",
     "exception": false,
     "start_time": "2022-09-12T00:59:16.464604",
     "status": "completed"
    },
    "tags": []
   },
   "source": [
    "## Handle Monthly_Balance missing values"
   ]
  },
  {
   "cell_type": "code",
   "execution_count": 30,
   "id": "13e56bd4",
   "metadata": {
    "execution": {
     "iopub.execute_input": "2022-09-12T00:59:16.600669Z",
     "iopub.status.busy": "2022-09-12T00:59:16.600234Z",
     "iopub.status.idle": "2022-09-12T00:59:16.625090Z",
     "shell.execute_reply": "2022-09-12T00:59:16.623570Z"
    },
    "papermill": {
     "duration": 0.074792,
     "end_time": "2022-09-12T00:59:16.627901",
     "exception": false,
     "start_time": "2022-09-12T00:59:16.553109",
     "status": "completed"
    },
    "tags": []
   },
   "outputs": [],
   "source": [
    "fill_list = data['Monthly_Balance'].dropna().tolist()\n",
    "data['Monthly_Balance'] = data['Monthly_Balance'].fillna(pd.Series(np.random.choice(fill_list , size = len(data.index))))"
   ]
  },
  {
   "cell_type": "code",
   "execution_count": 7,
   "id": "3bdc9043",
   "metadata": {
    "execution": {
     "iopub.execute_input": "2022-09-12T00:59:20.974704Z",
     "iopub.status.busy": "2022-09-12T00:59:20.973977Z",
     "iopub.status.idle": "2022-09-12T00:59:21.039332Z",
     "shell.execute_reply": "2022-09-12T00:59:21.038340Z"
    },
    "papermill": {
     "duration": 0.115099,
     "end_time": "2022-09-12T00:59:21.042060",
     "exception": false,
     "start_time": "2022-09-12T00:59:20.926961",
     "status": "completed"
    },
    "tags": []
   },
   "outputs": [],
   "source": [
    "data.dropna(thresh=24, inplace=True)"
   ]
  },
  {
   "cell_type": "code",
   "execution_count": 8,
   "id": "ab4fc629",
   "metadata": {
    "execution": {
     "iopub.execute_input": "2022-09-12T00:59:21.136363Z",
     "iopub.status.busy": "2022-09-12T00:59:21.135693Z",
     "iopub.status.idle": "2022-09-12T00:59:21.182136Z",
     "shell.execute_reply": "2022-09-12T00:59:21.181021Z"
    },
    "papermill": {
     "duration": 0.096097,
     "end_time": "2022-09-12T00:59:21.184713",
     "exception": false,
     "start_time": "2022-09-12T00:59:21.088616",
     "status": "completed"
    },
    "tags": []
   },
   "outputs": [
    {
     "data": {
      "text/plain": [
       "Month                       0\n",
       "Age                         0\n",
       "Occupation                  0\n",
       "Annual_Income               0\n",
       "Monthly_Inhand_Salary       0\n",
       "Num_Bank_Accounts           0\n",
       "Num_Credit_Card             0\n",
       "Interest_Rate               0\n",
       "Num_of_Loan                 0\n",
       "Type_of_Loan                0\n",
       "Delay_from_due_date         0\n",
       "Num_of_Delayed_Payment      0\n",
       "Changed_Credit_Limit        0\n",
       "Num_Credit_Inquiries        0\n",
       "Credit_Mix                  0\n",
       "Outstanding_Debt            0\n",
       "Credit_Utilization_Ratio    0\n",
       "Credit_History_Age          0\n",
       "Payment_of_Min_Amount       0\n",
       "Total_EMI_per_month         0\n",
       "Amount_invested_monthly     0\n",
       "Payment_Behaviour           0\n",
       "Monthly_Balance             0\n",
       "Credit_Score                0\n",
       "dtype: int64"
      ]
     },
     "execution_count": 8,
     "metadata": {},
     "output_type": "execute_result"
    }
   ],
   "source": [
    "data.isnull().sum()"
   ]
  },
  {
   "cell_type": "markdown",
   "id": "61c1a32e",
   "metadata": {
    "papermill": {
     "duration": 0.057598,
     "end_time": "2022-09-12T00:59:38.367170",
     "exception": false,
     "start_time": "2022-09-12T00:59:38.309572",
     "status": "completed"
    },
    "tags": []
   },
   "source": [
    "# Encode categorical values"
   ]
  },
  {
   "cell_type": "code",
   "execution_count": 10,
   "id": "e0396ab7",
   "metadata": {
    "execution": {
     "iopub.execute_input": "2022-09-12T00:59:38.484395Z",
     "iopub.status.busy": "2022-09-12T00:59:38.483609Z",
     "iopub.status.idle": "2022-09-12T00:59:38.501024Z",
     "shell.execute_reply": "2022-09-12T00:59:38.500161Z"
    },
    "papermill": {
     "duration": 0.078622,
     "end_time": "2022-09-12T00:59:38.503214",
     "exception": false,
     "start_time": "2022-09-12T00:59:38.424592",
     "status": "completed"
    },
    "tags": []
   },
   "outputs": [
    {
     "data": {
      "text/plain": [
       "Index(['Month', 'Occupation', 'Type_of_Loan', 'Credit_Mix',\n",
       "       'Credit_History_Age', 'Payment_of_Min_Amount', 'Payment_Behaviour',\n",
       "       'Credit_Score'],\n",
       "      dtype='object')"
      ]
     },
     "execution_count": 10,
     "metadata": {},
     "output_type": "execute_result"
    }
   ],
   "source": [
    "data.select_dtypes(['object']).columns"
   ]
  },
  {
   "cell_type": "code",
   "execution_count": 11,
   "id": "4cc3e6a2",
   "metadata": {
    "execution": {
     "iopub.execute_input": "2022-09-12T00:59:38.621807Z",
     "iopub.status.busy": "2022-09-12T00:59:38.621094Z",
     "iopub.status.idle": "2022-09-12T00:59:38.626400Z",
     "shell.execute_reply": "2022-09-12T00:59:38.625322Z"
    },
    "papermill": {
     "duration": 0.067737,
     "end_time": "2022-09-12T00:59:38.628939",
     "exception": false,
     "start_time": "2022-09-12T00:59:38.561202",
     "status": "completed"
    },
    "tags": []
   },
   "outputs": [],
   "source": [
    "Month_le = le()\n",
    "Occupation_le = le()\n",
    "Type_of_Loan_le = le()\n",
    "Credit_Mix_le = le()\n",
    "Credit_History_Age_le = le()\n",
    "Payment_of_Min_Amount_le = le()\n",
    "Payment_Behaviour_le = le()\n",
    "Credit_Score_le = le()"
   ]
  },
  {
   "cell_type": "code",
   "execution_count": 12,
   "id": "43439cd1",
   "metadata": {
    "execution": {
     "iopub.execute_input": "2022-09-12T00:59:38.750197Z",
     "iopub.status.busy": "2022-09-12T00:59:38.749794Z",
     "iopub.status.idle": "2022-09-12T00:59:38.981238Z",
     "shell.execute_reply": "2022-09-12T00:59:38.980206Z"
    },
    "papermill": {
     "duration": 0.29499,
     "end_time": "2022-09-12T00:59:38.983949",
     "exception": false,
     "start_time": "2022-09-12T00:59:38.688959",
     "status": "completed"
    },
    "tags": []
   },
   "outputs": [],
   "source": [
    "data['Month'] = Month_le.fit_transform(data['Month'])\n",
    "data['Occupation'] = Occupation_le.fit_transform(data['Occupation'])\n",
    "data['Type_of_Loan'] = Type_of_Loan_le.fit_transform(data['Type_of_Loan'])\n",
    "data['Credit_Mix'] = Credit_Mix_le.fit_transform(data['Credit_Mix'])\n",
    "data['Credit_History_Age'] = Credit_History_Age_le.fit_transform(data['Credit_History_Age'])\n",
    "data['Payment_of_Min_Amount'] = Payment_of_Min_Amount_le.fit_transform(data['Payment_of_Min_Amount'])\n",
    "data['Payment_Behaviour'] = Payment_Behaviour_le.fit_transform(data['Payment_Behaviour'])\n",
    "data['Credit_Score'] = Credit_Score_le.fit_transform(data['Credit_Score'])"
   ]
  },
  {
   "cell_type": "code",
   "execution_count": 13,
   "id": "ce9b7e93",
   "metadata": {
    "execution": {
     "iopub.execute_input": "2022-09-12T00:59:44.148314Z",
     "iopub.status.busy": "2022-09-12T00:59:44.147595Z",
     "iopub.status.idle": "2022-09-12T00:59:44.160682Z",
     "shell.execute_reply": "2022-09-12T00:59:44.159542Z"
    },
    "papermill": {
     "duration": 0.083821,
     "end_time": "2022-09-12T00:59:44.163454",
     "exception": false,
     "start_time": "2022-09-12T00:59:44.079633",
     "status": "completed"
    },
    "tags": []
   },
   "outputs": [],
   "source": [
    "mdf = data[['Credit_Score','Changed_Credit_Limit', 'Payment_of_Min_Amount', 'Credit_Mix', 'Delay_from_due_date', 'Annual_Income', 'Monthly_Inhand_Salary', 'Age', 'Monthly_Balance', 'Num_of_Delayed_Payment', 'Outstanding_Debt', 'Payment_Behaviour', 'Credit_History_Age', 'Num_Bank_Accounts', 'Credit_Utilization_Ratio']]"
   ]
  },
  {
   "cell_type": "markdown",
   "id": "0cbb83fa",
   "metadata": {
    "papermill": {
     "duration": 0.064619,
     "end_time": "2022-09-12T00:59:44.355844",
     "exception": false,
     "start_time": "2022-09-12T00:59:44.291225",
     "status": "completed"
    },
    "tags": []
   },
   "source": [
    "# Modeling"
   ]
  },
  {
   "cell_type": "code",
   "execution_count": 14,
   "id": "322ae4cc",
   "metadata": {
    "execution": {
     "iopub.execute_input": "2022-09-12T00:59:44.488036Z",
     "iopub.status.busy": "2022-09-12T00:59:44.487596Z",
     "iopub.status.idle": "2022-09-12T00:59:44.497725Z",
     "shell.execute_reply": "2022-09-12T00:59:44.496867Z"
    },
    "papermill": {
     "duration": 0.078926,
     "end_time": "2022-09-12T00:59:44.499943",
     "exception": false,
     "start_time": "2022-09-12T00:59:44.421017",
     "status": "completed"
    },
    "tags": []
   },
   "outputs": [],
   "source": [
    "x = mdf.drop(['Credit_Score'] , axis = 1).values\n",
    "y = mdf['Credit_Score' ].values"
   ]
  },
  {
   "cell_type": "markdown",
   "id": "895caabd",
   "metadata": {
    "papermill": {
     "duration": 0.064097,
     "end_time": "2022-09-12T00:59:44.628533",
     "exception": false,
     "start_time": "2022-09-12T00:59:44.564436",
     "status": "completed"
    },
    "tags": []
   },
   "source": [
    "# Split Data"
   ]
  },
  {
   "cell_type": "code",
   "execution_count": 15,
   "id": "00e5cc8f",
   "metadata": {
    "execution": {
     "iopub.execute_input": "2022-09-12T00:59:44.760801Z",
     "iopub.status.busy": "2022-09-12T00:59:44.759616Z",
     "iopub.status.idle": "2022-09-12T00:59:44.783796Z",
     "shell.execute_reply": "2022-09-12T00:59:44.782886Z"
    },
    "papermill": {
     "duration": 0.093042,
     "end_time": "2022-09-12T00:59:44.786479",
     "exception": false,
     "start_time": "2022-09-12T00:59:44.693437",
     "status": "completed"
    },
    "tags": []
   },
   "outputs": [
    {
     "data": {
      "text/plain": [
       "[(43275, 14), (43275,)]"
      ]
     },
     "execution_count": 15,
     "metadata": {},
     "output_type": "execute_result"
    }
   ],
   "source": [
    "x_train , x_test , y_train , y_test = train_test_split(x,y , test_size= 0.25 , random_state=42)\n",
    "[x_train.shape, y_train.shape]"
   ]
  },
  {
   "cell_type": "markdown",
   "id": "81d4b821",
   "metadata": {
    "papermill": {
     "duration": 0.064304,
     "end_time": "2022-09-12T00:59:44.914781",
     "exception": false,
     "start_time": "2022-09-12T00:59:44.850477",
     "status": "completed"
    },
    "tags": []
   },
   "source": [
    "# Data Scaling using Robust Scaler"
   ]
  },
  {
   "cell_type": "code",
   "execution_count": 16,
   "id": "47ab9f83",
   "metadata": {
    "execution": {
     "iopub.execute_input": "2022-09-12T00:59:45.049127Z",
     "iopub.status.busy": "2022-09-12T00:59:45.048349Z",
     "iopub.status.idle": "2022-09-12T00:59:45.134334Z",
     "shell.execute_reply": "2022-09-12T00:59:45.133157Z"
    },
    "papermill": {
     "duration": 0.156854,
     "end_time": "2022-09-12T00:59:45.136823",
     "exception": false,
     "start_time": "2022-09-12T00:59:44.979969",
     "status": "completed"
    },
    "tags": []
   },
   "outputs": [
    {
     "data": {
      "text/plain": [
       "[(43275, 14), (14425, 14)]"
      ]
     },
     "execution_count": 16,
     "metadata": {},
     "output_type": "execute_result"
    }
   ],
   "source": [
    "ro_scaler = rbScaler()\n",
    "x_train = ro_scaler.fit_transform(x_train)\n",
    "x_test = ro_scaler.fit_transform(x_test)\n",
    "[x_train.shape, x_test.shape]"
   ]
  },
  {
   "cell_type": "markdown",
   "id": "f5b88357",
   "metadata": {
    "papermill": {
     "duration": 0.070226,
     "end_time": "2022-09-12T01:01:42.449960",
     "exception": false,
     "start_time": "2022-09-12T01:01:42.379734",
     "status": "completed"
    },
    "tags": []
   },
   "source": [
    "# Random Forest Classifier"
   ]
  },
  {
   "cell_type": "code",
   "execution_count": 22,
   "id": "13ee310a",
   "metadata": {
    "execution": {
     "iopub.execute_input": "2022-09-12T01:01:42.593546Z",
     "iopub.status.busy": "2022-09-12T01:01:42.592828Z",
     "iopub.status.idle": "2022-09-12T01:01:42.598224Z",
     "shell.execute_reply": "2022-09-12T01:01:42.597282Z"
    },
    "papermill": {
     "duration": 0.07995,
     "end_time": "2022-09-12T01:01:42.600504",
     "exception": false,
     "start_time": "2022-09-12T01:01:42.520554",
     "status": "completed"
    },
    "tags": []
   },
   "outputs": [],
   "source": [
    "rf = rfClassifier(max_features= 14, max_depth= 8)"
   ]
  },
  {
   "cell_type": "code",
   "execution_count": 23,
   "id": "46f23de3",
   "metadata": {
    "execution": {
     "iopub.execute_input": "2022-09-12T01:01:42.746029Z",
     "iopub.status.busy": "2022-09-12T01:01:42.744689Z",
     "iopub.status.idle": "2022-09-12T01:02:23.993389Z",
     "shell.execute_reply": "2022-09-12T01:02:23.991954Z"
    },
    "papermill": {
     "duration": 41.395448,
     "end_time": "2022-09-12T01:02:24.067025",
     "exception": false,
     "start_time": "2022-09-12T01:01:42.671577",
     "status": "completed"
    },
    "tags": []
   },
   "outputs": [
    {
     "data": {
      "text/plain": [
       "RandomForestClassifier(max_depth=8, max_features=14)"
      ]
     },
     "execution_count": 23,
     "metadata": {},
     "output_type": "execute_result"
    }
   ],
   "source": [
    "rf.fit(x_train , y_train)"
   ]
  },
  {
   "cell_type": "code",
   "execution_count": 24,
   "id": "1672bf61",
   "metadata": {
    "execution": {
     "iopub.execute_input": "2022-09-12T01:02:24.211164Z",
     "iopub.status.busy": "2022-09-12T01:02:24.210750Z",
     "iopub.status.idle": "2022-09-12T01:02:24.978961Z",
     "shell.execute_reply": "2022-09-12T01:02:24.977700Z"
    },
    "papermill": {
     "duration": 0.843884,
     "end_time": "2022-09-12T01:02:24.981983",
     "exception": false,
     "start_time": "2022-09-12T01:02:24.138099",
     "status": "completed"
    },
    "tags": []
   },
   "outputs": [],
   "source": [
    "rf_score = rf.score(x_train , y_train)"
   ]
  },
  {
   "cell_type": "code",
   "execution_count": 26,
   "id": "0e2d4a98",
   "metadata": {
    "execution": {
     "iopub.execute_input": "2022-09-12T01:02:25.125539Z",
     "iopub.status.busy": "2022-09-12T01:02:25.125098Z",
     "iopub.status.idle": "2022-09-12T01:02:25.397426Z",
     "shell.execute_reply": "2022-09-12T01:02:25.396212Z"
    },
    "papermill": {
     "duration": 0.347864,
     "end_time": "2022-09-12T01:02:25.400453",
     "exception": false,
     "start_time": "2022-09-12T01:02:25.052589",
     "status": "completed"
    },
    "tags": []
   },
   "outputs": [
    {
     "name": "stdout",
     "output_type": "stream",
     "text": [
      "0.6910918544194108\n"
     ]
    }
   ],
   "source": [
    "rf_score_t = rf.score(x_test , y_test)\n",
    "print(rf_score_t)"
   ]
  },
  {
   "cell_type": "code",
   "execution_count": null,
   "id": "a3048cb2",
   "metadata": {
    "papermill": {
     "duration": 0.089278,
     "end_time": "2022-09-12T01:06:33.689415",
     "exception": false,
     "start_time": "2022-09-12T01:06:33.600137",
     "status": "completed"
    },
    "tags": []
   },
   "outputs": [],
   "source": []
  }
 ],
 "metadata": {
  "kernelspec": {
   "display_name": "Python 3 (ipykernel)",
   "language": "python",
   "name": "python3"
  },
  "language_info": {
   "codemirror_mode": {
    "name": "ipython",
    "version": 3
   },
   "file_extension": ".py",
   "mimetype": "text/x-python",
   "name": "python",
   "nbconvert_exporter": "python",
   "pygments_lexer": "ipython3",
   "version": "3.9.14"
  },
  "papermill": {
   "default_parameters": {},
   "duration": 474.11944,
   "end_time": "2022-09-12T01:06:34.804651",
   "environment_variables": {},
   "exception": null,
   "input_path": "__notebook__.ipynb",
   "output_path": "__notebook__.ipynb",
   "parameters": {},
   "start_time": "2022-09-12T00:58:40.685211",
   "version": "2.3.4"
  }
 },
 "nbformat": 4,
 "nbformat_minor": 5
}
